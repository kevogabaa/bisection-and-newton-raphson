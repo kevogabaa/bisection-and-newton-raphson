{
 "cells": [
  {
   "cell_type": "code",
   "execution_count": 7,
   "metadata": {},
   "outputs": [
    {
     "name": "stdout",
     "output_type": "stream",
     "text": [
      "Root found at x =2.092090\n",
      "Execution time: 0.00015 seconds\n",
      "count is: 23 in total\n"
     ]
    }
   ],
   "source": [
    "import timeit\n",
    "\n",
    "a=2\n",
    "b=3\n",
    "tolerance =1e-6\n",
    "max_iterations =100\n",
    "count=0\n",
    "\n",
    "def sol(x):\n",
    "    return x**4 - x**3 -10\n",
    "\n",
    "\n",
    "def bisection():\n",
    "    # access the variables outside the function\n",
    "    global a,b, count\n",
    "\n",
    "    for i in range(max_iterations): \n",
    "        c=(a+b)/2\n",
    "        count +=1\n",
    "        if abs(sol(c)) < tolerance:\n",
    "            print(f\"Root found at x = {c:.6f}\")\n",
    "            break\n",
    "        elif sol(c)*sol(a)<0 :\n",
    "            b=c\n",
    "        else:\n",
    "            a=c\n",
    "\n",
    "\n",
    "#measure the execution time of bisection\n",
    "execution_time = timeit.timeit(bisection, number=1)\n",
    "\n",
    "# Print the execution time\n",
    "print(f\"Execution time: {execution_time:.5f} seconds\")\n",
    "\n",
    "#print count/no of iterations\n",
    "print(f\"count is: {count} in total\")"
   ]
  },
  {
   "cell_type": "code",
   "execution_count": 6,
   "metadata": {},
   "outputs": [
    {
     "name": "stdout",
     "output_type": "stream",
     "text": [
      "Root found at x =2.092090\n",
      "Execution time: 0.00034 seconds\n",
      "count is: 11 in total\n"
     ]
    }
   ],
   "source": [
    "import timeit\n",
    "\n",
    "x0=1\n",
    "tolerance=1e-6\n",
    "max_iteration = 100\n",
    "count =0\n",
    "\n",
    "# Define the function\n",
    "def func(x):\n",
    "    return x**4 - x**3 -10\n",
    "\n",
    "\n",
    "# Define the function's derivative\n",
    "def der(x):\n",
    "    return 4*x**3 - 3*x**2\n",
    "\n",
    "\n",
    "# Define the Newton-Raphson method\n",
    "def newton_raphson():\n",
    "    global x0, count,tolerance,max_iteration\n",
    "    for i in range (max_iteration):\n",
    "        x1 =x0 -func(x0)/der(x0)\n",
    "        count+=1\n",
    "        if abs (func(x1)) < tolerance:\n",
    "            print(f\"Root found at x = {x1:.6f}\")\n",
    "            break\n",
    "        else:\n",
    "            x0 = x1\n",
    "\n",
    "\n",
    "# Measure the execution time of newton_raphson\n",
    "execution_time = timeit.timeit(newton_raphson, number=1)\n",
    "\n",
    "# Print the execution time\n",
    "print(f\"Execution time: {execution_time:.5f} seconds\")\n",
    "\n",
    "print(f\"count is: {count} in total\")"
   ]
  }
 ],
 "metadata": {
  "kernelspec": {
   "display_name": "env",
   "language": "python",
   "name": "python3"
  },
  "language_info": {
   "codemirror_mode": {
    "name": "ipython",
    "version": 3
   },
   "file_extension": ".py",
   "mimetype": "text/x-python",
   "name": "python",
   "nbconvert_exporter": "python",
   "pygments_lexer": "ipython3",
   "version": "3.10.6"
  },
  "orig_nbformat": 4
 },
 "nbformat": 4,
 "nbformat_minor": 2
}
